{
 "cells": [
  {
   "cell_type": "code",
   "execution_count": null,
   "metadata": {},
   "outputs": [
    {
     "name": "stdout",
     "output_type": "stream",
     "text": [
      "{'Uber': 'Next-Generation Car Service', 'Problem': 'Most cabs in 2008 use aging & inefficient technology. O 0 uw UJ Taxi-monopolies reduce the quality of service. No GPS coordination between clientdriver.', 'Solution': 'UberCab Concept a fast & efficient on-demand car service. Latest consumer web & , device technology. wey Automate dispatch to reduce wait-time. Optimized fleets and incentivized drivers.', 'How it Works': 'Client must be a member to use the service. Not hailed from the street but from your phone. Guaranteed Pick-up unlike a yellow-cab', 'Key Differentiators': 'Vl, o- - 1 1-click hailing Pickup here in 5 mins a Fast Response Time Easier than Calling Nes Members Only Respectable clientele High Tech Solution Geo-aware Auto-dispatch Optimized fleet Logistical LBS software Great Drivers Rating System', 'Product': 'Alc e 1-Click request from Geo-aware devices. Book Trips, show Fleet status, trip history. e Easy & Fast Economy While you ride REQUEST UBER', 'Use Cases': 'Airport pickupdropoff Trips tofrom restaurants, bars & shows pre-scheduled iY Fast local transport 20, Working while where parking isnt easy commuting wifi in cars', 'User Benefits': 'Cabs dont guarantee pickup, can take 45 mins Cabs arent as safe or clean as limos Cars services RR dit', 'Technology Mobile phones intelligent scheduling': 'Paymentutilization. Reputation tracking x Patent-pending system design', 'Market Size': '45 There are X target customers in the market. At our Y pricing, this is how large this company could become. 35 30 25 20 15 Make sure to show the math on how you came to your conclusions. 10 2011 2012 2013 2014 2015 2016 For more details httpsyoutu.beM_RMTC2YmXY Source Forrester Gartner your Uncle', 'Looking Foward': 'Potential Outcomes pe YW Best-Case Scenario Realistic Success Scenario Worst-Case Scenario Becomes market leader, Gets 5 of the top 5 US Remains a 10 car, 100 $1B in yearly revenue Cities. Generates 20-30M client service in SF. Time- per year profit saver for San-Francisco based executives.', 'Go-To Market plan': 'ap Referal Invite only from an existing member Virality Become the ubiquitous oremium cab service', 'Traction': 'Progress to Date November March iPhone dev license applied 5 advisors & 15 clients for Nov now October January California LLC Bank Account Paypal trademark filed account'}\n"
     ]
    }
   ],
   "source": [
    "import pytesseract\n",
    "import re\n",
    "from pdf2image import convert_from_path\n",
    "pytesseract.pytesseract.tesseract_cmd = r\"C:\\Program Files\\Tesseract-OCR\\tesseract.exe\"\n",
    "\n",
    "def clean(s):\n",
    "    text = re.sub(r\"[^\\w\\s\\.\\,\\-\\&\\$]\",\"\",s)\n",
    "    text = re.sub(r\"\\n\\s*\\n\",\"\\n\\n\",text)\n",
    "    text = re.sub(r\"(\\w)\\n(\\w)\",r\"\\1 \\2\",text)\n",
    "    text = re.sub(r\"\\s+\",\" \",text).strip()\n",
    "    return text\n",
    "\n",
    "def extract(pdf_path):\n",
    "    pages = convert_from_path(pdf_path)\n",
    "    sections = {}\n",
    "    for i in pages:\n",
    "        i = pytesseract.image_to_string(i).split('\\n\\n')   # this is where we split heading of slide and its content\n",
    "        feature,content = clean(i[0]).strip(),clean(' '.join(i[1:])).strip()\n",
    "        sections[feature] = content\n",
    "    return sections  # we finally return a dictionary with keys as headings and values as content\n",
    "\n",
    "\n",
    "pdf_path = \"Data/uber-pitch-deck.pdf\"\n",
    "sections = extract(pdf_path)\n",
    "\n",
    "print(sections)\n"
   ]
  },
  {
   "cell_type": "code",
   "execution_count": null,
   "metadata": {},
   "outputs": [
    {
     "name": "stdout",
     "output_type": "stream",
     "text": [
      "Pitch Score: 68/100\n",
      "\n",
      "Feedback: The problem and solution are clearly defined, but the market size section needs more concrete data and a clearer explanation of the calculations. While differentiators are listed, the \"Go-To-Market plan\" lacks detail and specific strategies. Consider elaborating on partnerships, marketing, and sales approaches. Stronger financial projections and a more detailed competitive analysis would significantly improve the pitch.\n",
      "\n"
     ]
    }
   ],
   "source": [
    "from google import genai\n",
    "\n",
    "client = genai.Client(api_key=\"key\")\n",
    "\n",
    "response = client.models.generate_content(\n",
    "    model=\"gemini-2.0-flash\", contents=f\"The given dictionary is a pitch deck of a company, you have to analyze each key sections and assign weights based on the importance of different sections. Generate a pitch score (0-100) based on predefined metrics. Provide personalized feedback on which areas need improvement and mention some points in the given dictionary. Only display pitch score + generated feedback(<=100 words). Sections dictionry:{sections}\"\n",
    ")\n",
    "print(response.text)"
   ]
  },
  {
   "cell_type": "code",
   "execution_count": null,
   "metadata": {},
   "outputs": [],
   "source": []
  }
 ],
 "metadata": {
  "kernelspec": {
   "display_name": "MVK_env",
   "language": "python",
   "name": "python3"
  },
  "language_info": {
   "codemirror_mode": {
    "name": "ipython",
    "version": 3
   },
   "file_extension": ".py",
   "mimetype": "text/x-python",
   "name": "python",
   "nbconvert_exporter": "python",
   "pygments_lexer": "ipython3",
   "version": "3.11.9"
  }
 },
 "nbformat": 4,
 "nbformat_minor": 2
}
