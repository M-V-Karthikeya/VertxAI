{
 "cells": [
  {
   "cell_type": "markdown",
   "metadata": {},
   "source": [
    "Loading investors data"
   ]
  },
  {
   "cell_type": "code",
   "execution_count": 2,
   "metadata": {},
   "outputs": [],
   "source": [
    "import pandas as pd \n",
    "\n",
    "data = pd.read_json('Data/investors.json')"
   ]
  },
  {
   "cell_type": "markdown",
   "metadata": {},
   "source": [
    "Function to clean the data and return a list of items"
   ]
  },
  {
   "cell_type": "code",
   "execution_count": 3,
   "metadata": {},
   "outputs": [],
   "source": [
    "def clean(s):\n",
    "    l = []\n",
    "    if(',' in s):\n",
    "        s = s.split(',')\n",
    "    else:\n",
    "        s = [s]\n",
    "    for i in s:\n",
    "        if(i.strip()):\n",
    "            l.append(i.strip().lower())\n",
    "    return l"
   ]
  },
  {
   "cell_type": "markdown",
   "metadata": {},
   "source": [
    "All available stages from all the investors"
   ]
  },
  {
   "cell_type": "code",
   "execution_count": 4,
   "metadata": {},
   "outputs": [
    {
     "name": "stdout",
     "output_type": "stream",
     "text": [
      "['prototype/mvp', 'series++', 'post revenue', 'idea', 'scaling', 'idea or mvp', 'seed', 'series a', 'angel', 'pre-ipo', 'pre-seed', 'stage', 'series+']\n"
     ]
    }
   ],
   "source": [
    "stages = []\n",
    "for i in list(data['Stage']):\n",
    "    stages+=clean(i)\n",
    "stages = list(set(stages))\n",
    "print(stages)"
   ]
  },
  {
   "cell_type": "markdown",
   "metadata": {},
   "source": [
    "All the Business models investors are interested in"
   ]
  },
  {
   "cell_type": "code",
   "execution_count": 6,
   "metadata": {},
   "outputs": [
    {
     "name": "stdout",
     "output_type": "stream",
     "text": [
      "['solo capitalist', 'family office', 'startup studio', 'multi-stage vc', 'incubator', 'angel', 'pe fund', 'public fund', 'accelerator', 'pre-seed fund', 'solo angel', 'other', 'corporate vc', 'vc', 'seed fund', 'full-time operator', 'investor_type', 'full-time angel', 'angel network', 'revenue-based']\n"
     ]
    }
   ],
   "source": [
    "models = []\n",
    "for i in list(data['Type']):\n",
    "    models+=clean(i)\n",
    "models = list(set(models))\n",
    "print(models)"
   ]
  },
  {
   "cell_type": "code",
   "execution_count": 7,
   "metadata": {},
   "outputs": [
    {
     "name": "stdout",
     "output_type": "stream",
     "text": [
      "['wellness', 'personal finance', 'energy', 'dna/rna', 'security & investigations', 'crypto/blockchain', 'aviation & aerospace', 'broadcast media', 'logistics & supply chain', 'hardtech', 'higher education', 'transportation', 'productivity', 'public relations & communications', 'api', 'supply chain/logistics', 'telecommunications', 'internet and mobile', 'mental health', 'veterinary', 'renewables & environment', 'consumer electronics', 'climate/sustainability', 'iot', 'marketplace', 'market research', 'outsourcing/offshoring', 'entertainment', 'gaming', 'philanthropy', 'materials', 'hospital & health care', 'proteins', 'publishing', 'information technology & services', 'mobility', 'food & beverage', 'electrical/electronic manufacturing', 'pharmaceuticals', 'industry', 'retail', 'automotive', 'insuretech', 'freight', 'consumer', 'semiconductors', 'language learning', 'cloud', 'future of work', 'ar/vr', 'agritech', 'apparel & fashion', 'healthcare/medtech', 'construction', 'diagnostics', 'ecommerce', 'sector agnostic', 'justicetech', 'management consulting', 'consumer goods', 'banking', 'media', '-omics', 'photonics', 'medical devices', 'environmental services', 'sports', 'civic & social organization', 'adtech', 'defense & space', 'payments', 'b2b', 'automation', 'online media', 'therapeutics', 'analytics', 'wireless', 'health and wellness', 'social', 'fintech', 'b2c', 'ai and ml', 'travel/hospitality', 'robotics', 'design', 'music', 'vaccines', 'wholesale', 'optics', 'd2c', 'insurance', 'hardware', 'saas', 'developer tools', 'chemicals', 'edtech', 'cosmetics', 'cyber security', 'recruiting', 'proptech/real estate', 'manufacturing & automation', 'media production', 'industrial', 'biotech', 'marketing & advertising', 'space', 'human resources', 'primary/secondary education', 'aerospace', 'greentech', 'revenue-generating startups', 'legal services', 'real estate', 'capital markets', 'k-12', 'dtc', 'staffing & recruiting', 'venture capital & private equity', 'travel/tourism', 'life sciences', 'government technology', 'sales enablement', 'deep tech/hard science', 'program development', 'hospitality']\n"
     ]
    }
   ],
   "source": [
    "industries = []\n",
    "for i in range(len(list(data['Industry']))):\n",
    "    if(data['Industry'][i]!=data['Overview'][i]):\n",
    "        i = data['Industry'][i]\n",
    "        industries+=clean(i)\n",
    "industries = list(set(industries))\n",
    "print(industries)"
   ]
  },
  {
   "cell_type": "code",
   "execution_count": 8,
   "metadata": {},
   "outputs": [
    {
     "name": "stdout",
     "output_type": "stream",
     "text": [
      "['usa', 'saudi arabia', 'sweden', 'finland', 'morocco', 'singapore', 'kenya', 'grenada', 'haiti', 'tuvalu', 'ukraine', 'guyana', 'africa', 'hungary', 'saint vincent and the grenadines', 'kazakhstan', 'cuba', 'tajikistan', 'gambia', 'antigua and barbuda', 'colombia', 'syria', 'mauritania', 'chile', 'sant lucia', 'bangladesh', 'malawi', 'maldives', 'somalia', 'ethiopia', 'oceania', 'belgium', 'equatorial guinea', 'guinea', 'india', 'marshall islands', 'malaysia', 'monaco', 'poland', 'bhutan', 'timor-leste', 'nauru', 'serbia', 'kuwait', 'new zealand', 'lithuania', 'yemen', 'cabo verde', 'azerbaijan', 'southeast asia', 'cyprus', 'malta', 'kyrgyzstan', 'sierra leone', 'uk', 'zimbabwe', 'global', 'italy', 'australia', 'cameroon', 'mauritius', 'estonia', 'slovenia', 'zambia', 'spain', 'philippines', 'bahrain', 'san marino', 'tunisia', 'cambodia', 'nigeria', 'thailand', \"côte d'ivoire\", 'botswana', 'paraguay', 'lesotho', 'central african republic', 'montenegro', 'canada', 'andorra', 'portugal', 'chad', 'solomon islands', 'jordan', 'russia', 'dominican republic', 'germany', 'bulgaria', 'us/canada', 'argentina', 'el salvador', 'iraq', 'bolivia', 'uzbekistan', 'barbados', 'trinidad and tobago', 'nicaragua', 'taiwan', 'iceland', 'comoros', 'countries', 'oman', 'turkey', 'niger', 'south africa', 'sri lanka', 'luxembourg', 'slovakia', 'samoa', 'algeria', 'north macedonia', 'venezuela', 'mali', 'middle east/north africa', 'croatia', 'indonesia', 'georgia', 'lebanon', 'namibia', 'sant kitts and nevis', 'brazil', 'sudan', 'kiribati', 'lybia', 'angola', 'belize', 'iran', 'jamaica', 'hong kong', 'tonga', 'burkina faso', 'ecuador', 'madagascar', 'denmark', 'fiji', 'burundi', 'peru', 'netherlands', 'mexico', 'seychelles', 'liechtenstein', 'latin america', 'europe', 'palestine', 'belarus', 'palau', 'uruguay', 'brunei', 'tanzania', 'papua new guinea', 'south korea', 'rwanda', 'greece', 'ireland', 'norway', 'south sudan', 'uae', 'south asia', 'guinea-bissau', 'latvia', 'romania', 'mongolia', 'north korea', 'honduras', 'senegal', 'sao tome and principe', 'liberia', 'costa rica', 'micronesia', 'israel', 'bahamas', 'laos', 'armenia', 'afghanistan', 'czech republic', 'benin', 'uganda', 'egypt', 'suriname', 'pakistan', 'ghana', 'china', 'dominica', 'bosnia-h', '\"eswatini (fmr. \"\"swaziland\"\")\"', 'togo', 'holy see', 'eritrea', 'east asia', 'france', 'djibouti', 'drc congo', 'turkmenistan', 'qatar', 'japan', 'guatemala', 'mozambique', 'congo (congo-brazzaville)', 'nepal', 'gabon', 'austria', 'switzerland', 'panama', 'vanuatu', 'vietnam', 'myanmar', 'moldova', 'albania']\n"
     ]
    }
   ],
   "source": [
    "countries = []\n",
    "for i in list(data['Countries']):\n",
    "    countries+=clean(i)\n",
    "countries = list(set(countries))\n",
    "print(countries)"
   ]
  },
  {
   "cell_type": "markdown",
   "metadata": {},
   "source": [
    "Finding Scores for each field"
   ]
  },
  {
   "cell_type": "code",
   "execution_count": 9,
   "metadata": {},
   "outputs": [],
   "source": [
    "from sklearn.feature_extraction.text import TfidfVectorizer\n",
    "from sklearn.metrics.pairwise import cosine_similarity\n",
    "\n",
    "def match_overview(desc,inv_data):\n",
    "    scores = []\n",
    "    tfidf = TfidfVectorizer()\n",
    "    for i in inv_data['Overview']:\n",
    "        text = [desc,i]\n",
    "        tfidf_emb = tfidf.fit_transform(text).toarray()\n",
    "        cos_sim = cosine_similarity(tfidf_emb[0].reshape(1,-1),tfidf_emb[1].reshape(1,-1))[0][0]\n",
    "        scores.append(int(cos_sim*100)+1)\n",
    "    return scores\n",
    "\n",
    "def match_industry(industry,inv_data):\n",
    "    scores = []\n",
    "    for i in inv_data['Industry']:\n",
    "        score = 0\n",
    "        inds = clean(i)\n",
    "        for j in industry:\n",
    "            if(j in inds):\n",
    "                score+=15\n",
    "        scores.append(score)\n",
    "    return scores\n",
    "\n",
    "def match_stage(stage,inv_data):\n",
    "    scores = []\n",
    "    for i in inv_data['Stage']:\n",
    "        score = 0\n",
    "        st = clean(i)\n",
    "        for j in stage:\n",
    "            if(j in st):\n",
    "                score+=10\n",
    "        scores.append(score)\n",
    "    return scores\n",
    "\n",
    "def match_region(region,inv_data):\n",
    "    scores = []\n",
    "    for i in inv_data['Countries']:\n",
    "        score = 0\n",
    "        country = clean(i)\n",
    "        for j in region:\n",
    "            if(j in country):\n",
    "                score+=5\n",
    "        scores.append(score)\n",
    "    return scores\n",
    "\n",
    "def match_model(model,inv_data):\n",
    "    scores = []\n",
    "    for i in inv_data['Type']:\n",
    "        score = 0\n",
    "        mod = clean(i)\n",
    "        for j in model:\n",
    "            if(j in mod):\n",
    "                score+=5\n",
    "        scores.append(score)\n",
    "    return scores\n",
    "\n",
    "def match_funds(funds,inv_data):\n",
    "    scores = []\n",
    "    for i in inv_data['Cheque_range']:\n",
    "        score = 0\n",
    "        i = i.replace('$',\"\").lower().replace('k','000').replace('m','000000').split('-')\n",
    "        if(len(i)==1):\n",
    "            min_fund = int(i[0].strip())\n",
    "            max_fund = min_fund\n",
    "        else:\n",
    "            min_fund,max_fund = int(i[0].strip()),int(i[1].strip())\n",
    "        if min_fund <= funds <= max_fund:\n",
    "            score+=30\n",
    "        scores.append(score)\n",
    "    return scores"
   ]
  },
  {
   "cell_type": "markdown",
   "metadata": {},
   "source": [
    "Summing up all the Scores from all fields and finding best matches"
   ]
  },
  {
   "cell_type": "code",
   "execution_count": 10,
   "metadata": {},
   "outputs": [],
   "source": [
    "def match(founders_input,data):\n",
    "    s_over,s_in,s_st,s_re,s_mo,s_fu = match_overview(founders_input['desc'],data),match_industry(founders_input['industry'],data),match_stage(founders_input['stage'],data),match_region(founders_input['region'],data),match_model(founders_input['model'],data),match_funds(founders_input['funds'],data)\n",
    "    scores = []\n",
    "    for i in range(len(s_over)):\n",
    "        res = s_over[i]+s_in[i]+s_st[i]+s_re[i]+s_mo[i]+s_fu[i]\n",
    "        scores.append([i,res])\n",
    "    scores = sorted(scores,key=lambda x:x[1],reverse=True)\n",
    "    indices = []\n",
    "    rank = []\n",
    "    for i in scores[:30]:\n",
    "        indices.append(i[0])\n",
    "        rank.append(i[1])\n",
    "    df = data.loc[indices]\n",
    "    df['Score'] = rank\n",
    "    return df"
   ]
  },
  {
   "cell_type": "code",
   "execution_count": 12,
   "metadata": {},
   "outputs": [],
   "source": [
    "founders_input = {'name':'Sample',\n",
    "                  'desc':'An AI based startup, focused on LLMs',\n",
    "                  'industry':['information technology & services','ai and ml','api','cloud','saas'],\n",
    "                  'stage':['seed','idea'],\n",
    "                  'region':['india'],\n",
    "                  'model':['seed fund'],\n",
    "                  'funds':55000}\n",
    "df = match(founders_input,data)"
   ]
  },
  {
   "cell_type": "code",
   "execution_count": 13,
   "metadata": {},
   "outputs": [],
   "source": [
    "df.to_csv(f\"Results/list_{founders_input['name']}.csv\",index=False)"
   ]
  },
  {
   "cell_type": "code",
   "execution_count": null,
   "metadata": {},
   "outputs": [],
   "source": []
  }
 ],
 "metadata": {
  "kernelspec": {
   "display_name": "MVK_env",
   "language": "python",
   "name": "python3"
  },
  "language_info": {
   "codemirror_mode": {
    "name": "ipython",
    "version": 3
   },
   "file_extension": ".py",
   "mimetype": "text/x-python",
   "name": "python",
   "nbconvert_exporter": "python",
   "pygments_lexer": "ipython3",
   "version": "3.11.9"
  }
 },
 "nbformat": 4,
 "nbformat_minor": 2
}
